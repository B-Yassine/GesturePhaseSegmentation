{
 "cells": [
  {
   "cell_type": "markdown",
   "metadata": {},
   "source": [
    "# Gesture Phase Detection using Unsupervised and Supervised Learning"
   ]
  },
  {
   "cell_type": "code",
   "execution_count": null,
   "metadata": {},
   "outputs": [],
   "source": [
    "%matplotlib inline\n",
    "import pandas as pd\n",
    "\n",
    "import numpy as np\n",
    "\n",
    "from sklearn.model_selection import train_test_split\n",
    "from sklearn import model_selection, metrics\n",
    "from sklearn import preprocessing\n",
    "from sklearn.utils import shuffle\n",
    "from sklearn.preprocessing import StandardScaler\n",
    "\n",
    "import matplotlib\n",
    "import matplotlib.pyplot as plt"
   ]
  },
  {
   "cell_type": "code",
   "execution_count": null,
   "metadata": {},
   "outputs": [],
   "source": [
    "# read .csv from provided dataset\n",
    "csv_filename01=\"Dataset/a1_raw.csv\"\n",
    "csv_filename02=\"Dataset/a1_va3.csv\"\n",
    "csv_filename03=\"Dataset/a2_raw.csv\"\n",
    "csv_filename04=\"Dataset/a2_va3.csv\"\n",
    "csv_filename05=\"Dataset/a3_raw.csv\"\n",
    "csv_filename06=\"Dataset/a3_va3.csv\"\n",
    "\n",
    "csv_filename07=\"Dataset/b1_raw.csv\"\n",
    "csv_filename08=\"Dataset/b1_va3.csv\"\n",
    "csv_filename09=\"Dataset/b3_raw.csv\"\n",
    "csv_filename10=\"Dataset/b3_va3.csv\"\n",
    "\n",
    "csv_filename11=\"Dataset/c1_raw.csv\"\n",
    "csv_filename12=\"Dataset/c1_va3.csv\"\n",
    "csv_filename13=\"Dataset/c3_raw.csv\"\n",
    "csv_filename14=\"Dataset/c3_va3.csv\"\n",
    "\n",
    "# df=pd.read_csv(csv_filename,index_col=0)\n",
    "df1=pd.read_csv(\"Dataset/a1_raw.csv\" , skiprows=[1,2,3,4])\n",
    "df2=pd.read_csv(\"Dataset/a1_va3.csv\")\n",
    "df3=pd.read_csv(\"Dataset/a2_raw.csv\" , skiprows=[1,2,3,4])\n",
    "df4=pd.read_csv(\"Dataset/a2_va3.csv\")\n",
    "df5=pd.read_csv(\"Dataset/a3_raw.csv \", skiprows=[1,2,3,4])\n",
    "df6=pd.read_csv(\"Dataset/a3_va3.csv\")\n",
    "df7=pd.read_csv(\"Dataset/b1_raw.csv \", skiprows=[1,2,3,4])\n",
    "df8=pd.read_csv(\"Dataset/b1_va3.csv\")\n",
    "df9=pd.read_csv(\"Dataset/b3_raw.csv \", skiprows=[1,2,3,4])\n",
    "df10=pd.read_csv(csv_filename10)\n",
    "df11=pd.read_csv(csv_filename11 , skiprows=[1,2,3,4])\n",
    "df12=pd.read_csv(csv_filename12)\n",
    "df13=pd.read_csv(csv_filename13 , skiprows=[1,2,3,4])\n",
    "df14=pd.read_csv(csv_filename14)"
   ]
  },
  {
   "cell_type": "code",
   "execution_count": 3,
   "metadata": {},
   "outputs": [],
   "source": [
    "df1.drop('timestamp',axis=1,inplace=True)\n",
    "df1.drop('phase',axis=1,inplace=True)\n",
    "df3.drop('timestamp',axis=1,inplace=True)\n",
    "df3.drop('phase',axis=1,inplace=True)\n",
    "df5.drop('timestamp',axis=1,inplace=True)\n",
    "df5.drop('phase',axis=1,inplace=True)\n",
    "df7.drop('timestamp',axis=1,inplace=True)\n",
    "df7.drop('phase',axis=1,inplace=True)\n",
    "df9.drop('timestamp',axis=1,inplace=True)\n",
    "df9.drop('phase',axis=1,inplace=True)\n",
    "df11.drop('timestamp',axis=1,inplace=True)\n",
    "df11.drop('phase',axis=1,inplace=True)\n",
    "df13.drop('timestamp',axis=1,inplace=True)\n",
    "df13.drop('phase',axis=1,inplace=True)"
   ]
  },
  {
   "cell_type": "code",
   "execution_count": 4,
   "metadata": {},
   "outputs": [],
   "source": [
    "df2.rename(columns={'Phase': 'phase'}, inplace=True)\n",
    "df4.rename(columns={'Phase': 'phase'}, inplace=True)\n",
    "df6.rename(columns={'Phase': 'phase'}, inplace=True)\n",
    "df8.rename(columns={'Phase': 'phase'}, inplace=True)\n",
    "df10.rename(columns={'Phase': 'phase'}, inplace=True)\n",
    "df12.rename(columns={'Phase': 'phase'}, inplace=True)\n",
    "df14.rename(columns={'Phase': 'phase'}, inplace=True)"
   ]
  },
  {
   "cell_type": "code",
   "execution_count": 5,
   "metadata": {},
   "outputs": [],
   "source": [
    "p1 = pd.concat([df1,df2],axis=1)\n",
    "p2 = pd.concat([df3,df4],axis=1)\n",
    "p3 = pd.concat([df5,df6],axis=1)\n",
    "p4 = pd.concat([df7,df8],axis=1)\n",
    "p5 = pd.concat([df9,df10],axis=1)\n",
    "p6 = pd.concat([df11,df12],axis=1)\n",
    "p7 = pd.concat([df13,df14],axis=1)"
   ]
  },
  {
   "cell_type": "code",
   "execution_count": 6,
   "metadata": {},
   "outputs": [],
   "source": [
    "df= pd.concat([p1,p2,p3,p4,p5,p6,p7])"
   ]
  },
  {
   "cell_type": "code",
   "execution_count": 7,
   "metadata": {},
   "outputs": [
    {
     "data": {
      "text/plain": [
       "array(['D', 'P', 'S', 'H', 'R'], dtype=object)"
      ]
     },
     "execution_count": 7,
     "metadata": {},
     "output_type": "execute_result"
    }
   ],
   "source": [
    "df.phase.unique()"
   ]
  },
  {
   "cell_type": "code",
   "execution_count": 8,
   "metadata": {},
   "outputs": [],
   "source": [
    "# Delete the rows with label \"P\"\n",
    "# For label-based deletion, set the index first on the dataframe:\n",
    "df = df.set_index(\"phase\")\n",
    "df = df.drop([\"P\", 'D', 'R'], axis=0)"
   ]
  },
  {
   "cell_type": "code",
   "execution_count": 9,
   "metadata": {},
   "outputs": [
    {
     "data": {
      "text/html": [
       "<div>\n",
       "<style scoped>\n",
       "    .dataframe tbody tr th:only-of-type {\n",
       "        vertical-align: middle;\n",
       "    }\n",
       "\n",
       "    .dataframe tbody tr th {\n",
       "        vertical-align: top;\n",
       "    }\n",
       "\n",
       "    .dataframe thead th {\n",
       "        text-align: right;\n",
       "    }\n",
       "</style>\n",
       "<table border=\"1\" class=\"dataframe\">\n",
       "  <thead>\n",
       "    <tr style=\"text-align: right;\">\n",
       "      <th></th>\n",
       "      <th>lhx</th>\n",
       "      <th>lhy</th>\n",
       "      <th>lhz</th>\n",
       "      <th>rhx</th>\n",
       "      <th>rhy</th>\n",
       "      <th>rhz</th>\n",
       "      <th>hx</th>\n",
       "      <th>hy</th>\n",
       "      <th>hz</th>\n",
       "      <th>sx</th>\n",
       "      <th>...</th>\n",
       "      <th>23</th>\n",
       "      <th>24</th>\n",
       "      <th>25</th>\n",
       "      <th>26</th>\n",
       "      <th>27</th>\n",
       "      <th>28</th>\n",
       "      <th>29</th>\n",
       "      <th>30</th>\n",
       "      <th>31</th>\n",
       "      <th>32</th>\n",
       "    </tr>\n",
       "    <tr>\n",
       "      <th>phase</th>\n",
       "      <th></th>\n",
       "      <th></th>\n",
       "      <th></th>\n",
       "      <th></th>\n",
       "      <th></th>\n",
       "      <th></th>\n",
       "      <th></th>\n",
       "      <th></th>\n",
       "      <th></th>\n",
       "      <th></th>\n",
       "      <th></th>\n",
       "      <th></th>\n",
       "      <th></th>\n",
       "      <th></th>\n",
       "      <th></th>\n",
       "      <th></th>\n",
       "      <th></th>\n",
       "      <th></th>\n",
       "      <th></th>\n",
       "      <th></th>\n",
       "      <th></th>\n",
       "    </tr>\n",
       "  </thead>\n",
       "  <tbody>\n",
       "    <tr>\n",
       "      <td>S</td>\n",
       "      <td>5.096925</td>\n",
       "      <td>2.944271</td>\n",
       "      <td>1.468542</td>\n",
       "      <td>4.497191</td>\n",
       "      <td>3.282783</td>\n",
       "      <td>1.486971</td>\n",
       "      <td>5.052908</td>\n",
       "      <td>1.611426</td>\n",
       "      <td>1.766621</td>\n",
       "      <td>5.066699</td>\n",
       "      <td>...</td>\n",
       "      <td>-0.001379</td>\n",
       "      <td>-0.000094</td>\n",
       "      <td>0.020988</td>\n",
       "      <td>0.010354</td>\n",
       "      <td>0.016217</td>\n",
       "      <td>0.010435</td>\n",
       "      <td>0.004264</td>\n",
       "      <td>0.001580</td>\n",
       "      <td>0.003233</td>\n",
       "      <td>0.001581</td>\n",
       "    </tr>\n",
       "    <tr>\n",
       "      <td>S</td>\n",
       "      <td>5.104311</td>\n",
       "      <td>2.977685</td>\n",
       "      <td>1.468042</td>\n",
       "      <td>4.571614</td>\n",
       "      <td>3.147557</td>\n",
       "      <td>1.472319</td>\n",
       "      <td>5.051867</td>\n",
       "      <td>1.607633</td>\n",
       "      <td>1.766425</td>\n",
       "      <td>5.067700</td>\n",
       "      <td>...</td>\n",
       "      <td>-0.000320</td>\n",
       "      <td>0.000211</td>\n",
       "      <td>0.019476</td>\n",
       "      <td>0.003480</td>\n",
       "      <td>0.015015</td>\n",
       "      <td>0.003467</td>\n",
       "      <td>0.000600</td>\n",
       "      <td>0.003637</td>\n",
       "      <td>0.000472</td>\n",
       "      <td>0.003643</td>\n",
       "    </tr>\n",
       "    <tr>\n",
       "      <td>S</td>\n",
       "      <td>5.003324</td>\n",
       "      <td>3.062721</td>\n",
       "      <td>1.465710</td>\n",
       "      <td>4.580294</td>\n",
       "      <td>3.163301</td>\n",
       "      <td>1.470020</td>\n",
       "      <td>5.049946</td>\n",
       "      <td>1.605049</td>\n",
       "      <td>1.766622</td>\n",
       "      <td>5.071926</td>\n",
       "      <td>...</td>\n",
       "      <td>-0.000588</td>\n",
       "      <td>0.000017</td>\n",
       "      <td>0.013344</td>\n",
       "      <td>0.001848</td>\n",
       "      <td>0.010395</td>\n",
       "      <td>0.001814</td>\n",
       "      <td>0.001926</td>\n",
       "      <td>0.000595</td>\n",
       "      <td>0.001460</td>\n",
       "      <td>0.000595</td>\n",
       "    </tr>\n",
       "    <tr>\n",
       "      <td>S</td>\n",
       "      <td>5.000243</td>\n",
       "      <td>3.087687</td>\n",
       "      <td>1.461833</td>\n",
       "      <td>4.587502</td>\n",
       "      <td>3.205599</td>\n",
       "      <td>1.463568</td>\n",
       "      <td>5.048331</td>\n",
       "      <td>1.605076</td>\n",
       "      <td>1.767081</td>\n",
       "      <td>5.071769</td>\n",
       "      <td>...</td>\n",
       "      <td>0.000594</td>\n",
       "      <td>0.000180</td>\n",
       "      <td>0.007175</td>\n",
       "      <td>0.004686</td>\n",
       "      <td>0.005124</td>\n",
       "      <td>0.004668</td>\n",
       "      <td>0.006609</td>\n",
       "      <td>0.000916</td>\n",
       "      <td>0.004991</td>\n",
       "      <td>0.000921</td>\n",
       "    </tr>\n",
       "    <tr>\n",
       "      <td>S</td>\n",
       "      <td>5.001687</td>\n",
       "      <td>3.138095</td>\n",
       "      <td>1.452445</td>\n",
       "      <td>4.596392</td>\n",
       "      <td>3.233689</td>\n",
       "      <td>1.456821</td>\n",
       "      <td>5.046865</td>\n",
       "      <td>1.607460</td>\n",
       "      <td>1.767541</td>\n",
       "      <td>5.073685</td>\n",
       "      <td>...</td>\n",
       "      <td>-0.002091</td>\n",
       "      <td>-0.000095</td>\n",
       "      <td>0.007819</td>\n",
       "      <td>0.003604</td>\n",
       "      <td>0.005717</td>\n",
       "      <td>0.003606</td>\n",
       "      <td>0.000238</td>\n",
       "      <td>0.002267</td>\n",
       "      <td>0.000224</td>\n",
       "      <td>0.002265</td>\n",
       "    </tr>\n",
       "  </tbody>\n",
       "</table>\n",
       "<p>5 rows × 50 columns</p>\n",
       "</div>"
      ],
      "text/plain": [
       "            lhx       lhy       lhz       rhx       rhy       rhz        hx  \\\n",
       "phase                                                                         \n",
       "S      5.096925  2.944271  1.468542  4.497191  3.282783  1.486971  5.052908   \n",
       "S      5.104311  2.977685  1.468042  4.571614  3.147557  1.472319  5.051867   \n",
       "S      5.003324  3.062721  1.465710  4.580294  3.163301  1.470020  5.049946   \n",
       "S      5.000243  3.087687  1.461833  4.587502  3.205599  1.463568  5.048331   \n",
       "S      5.001687  3.138095  1.452445  4.596392  3.233689  1.456821  5.046865   \n",
       "\n",
       "             hy        hz        sx  ...        23        24        25  \\\n",
       "phase                                ...                                 \n",
       "S      1.611426  1.766621  5.066699  ... -0.001379 -0.000094  0.020988   \n",
       "S      1.607633  1.766425  5.067700  ... -0.000320  0.000211  0.019476   \n",
       "S      1.605049  1.766622  5.071926  ... -0.000588  0.000017  0.013344   \n",
       "S      1.605076  1.767081  5.071769  ...  0.000594  0.000180  0.007175   \n",
       "S      1.607460  1.767541  5.073685  ... -0.002091 -0.000095  0.007819   \n",
       "\n",
       "             26        27        28        29        30        31        32  \n",
       "phase                                                                        \n",
       "S      0.010354  0.016217  0.010435  0.004264  0.001580  0.003233  0.001581  \n",
       "S      0.003480  0.015015  0.003467  0.000600  0.003637  0.000472  0.003643  \n",
       "S      0.001848  0.010395  0.001814  0.001926  0.000595  0.001460  0.000595  \n",
       "S      0.004686  0.005124  0.004668  0.006609  0.000916  0.004991  0.000921  \n",
       "S      0.003604  0.005717  0.003606  0.000238  0.002267  0.000224  0.002265  \n",
       "\n",
       "[5 rows x 50 columns]"
      ]
     },
     "execution_count": 9,
     "metadata": {},
     "output_type": "execute_result"
    }
   ],
   "source": [
    "df.head()"
   ]
  },
  {
   "cell_type": "code",
   "execution_count": 10,
   "metadata": {},
   "outputs": [],
   "source": [
    "df = df.reset_index()"
   ]
  },
  {
   "cell_type": "code",
   "execution_count": 11,
   "metadata": {},
   "outputs": [],
   "source": [
    "df.rename(columns={'Phase': 'phase'}, inplace=True)"
   ]
  },
  {
   "cell_type": "code",
   "execution_count": 12,
   "metadata": {},
   "outputs": [
    {
     "data": {
      "text/plain": [
       "array(['S', 'H'], dtype=object)"
      ]
     },
     "execution_count": 12,
     "metadata": {},
     "output_type": "execute_result"
    }
   ],
   "source": [
    "df.phase.unique()"
   ]
  },
  {
   "cell_type": "code",
   "execution_count": 13,
   "metadata": {},
   "outputs": [
    {
     "data": {
      "text/plain": [
       "<matplotlib.axes._subplots.AxesSubplot at 0x21f27a2ecc0>"
      ]
     },
     "execution_count": 13,
     "metadata": {},
     "output_type": "execute_result"
    },
    {
     "data": {
      "image/png": "[encoded data removed]",
      "text/plain": [
       "<Figure size 432x288 with 1 Axes>"
      ]
     },
     "metadata": {},
     "output_type": "display_data"
    }
   ],
   "source": [
    "df['phase'].value_counts().plot(kind='bar')\n"
   ]
  },
  {
   "cell_type": "code",
   "execution_count": 14,
   "metadata": {},
   "outputs": [],
   "source": [
    "from sklearn.preprocessing import LabelEncoder\n",
    "le = LabelEncoder()\n",
    "df['phase'] = le.fit_transform(df['phase'])"
   ]
  },
  {
   "cell_type": "code",
   "execution_count": 15,
   "metadata": {},
   "outputs": [
    {
     "data": {
      "text/plain": [
       "array([1, 0], dtype=int64)"
      ]
     },
     "execution_count": 15,
     "metadata": {},
     "output_type": "execute_result"
    }
   ],
   "source": [
    "df.phase.unique()"
   ]
  },
  {
   "cell_type": "code",
   "execution_count": 22,
   "metadata": {},
   "outputs": [],
   "source": [
    "import pandas_profiling\n",
    "#df.profile_report(style={'full_width':True})\n",
    "profile = df.profile_report(title='Pandas Profiling Report')\n",
    "profile.to_file(output_file=\"outputEnhanced.html\")"
   ]
  },
  {
   "cell_type": "code",
   "execution_count": 23,
   "metadata": {},
   "outputs": [],
   "source": [
    "df = df.sample(frac=1)"
   ]
  },
  {
   "cell_type": "code",
   "execution_count": 24,
   "metadata": {
    "scrolled": true
   },
   "outputs": [
    {
     "data": {
      "text/html": [
       "<div>\n",
       "<style scoped>\n",
       "    .dataframe tbody tr th:only-of-type {\n",
       "        vertical-align: middle;\n",
       "    }\n",
       "\n",
       "    .dataframe tbody tr th {\n",
       "        vertical-align: top;\n",
       "    }\n",
       "\n",
       "    .dataframe thead th {\n",
       "        text-align: right;\n",
       "    }\n",
       "</style>\n",
       "<table border=\"1\" class=\"dataframe\">\n",
       "  <thead>\n",
       "    <tr style=\"text-align: right;\">\n",
       "      <th></th>\n",
       "      <th>phase</th>\n",
       "      <th>lhx</th>\n",
       "      <th>lhy</th>\n",
       "      <th>lhz</th>\n",
       "      <th>rhx</th>\n",
       "      <th>rhy</th>\n",
       "      <th>rhz</th>\n",
       "      <th>hx</th>\n",
       "      <th>hy</th>\n",
       "      <th>hz</th>\n",
       "      <th>...</th>\n",
       "      <th>23</th>\n",
       "      <th>24</th>\n",
       "      <th>25</th>\n",
       "      <th>26</th>\n",
       "      <th>27</th>\n",
       "      <th>28</th>\n",
       "      <th>29</th>\n",
       "      <th>30</th>\n",
       "      <th>31</th>\n",
       "      <th>32</th>\n",
       "    </tr>\n",
       "  </thead>\n",
       "  <tbody>\n",
       "    <tr>\n",
       "      <td>938</td>\n",
       "      <td>1</td>\n",
       "      <td>4.892087</td>\n",
       "      <td>3.355297</td>\n",
       "      <td>1.454830</td>\n",
       "      <td>5.100224</td>\n",
       "      <td>3.207672</td>\n",
       "      <td>1.446455</td>\n",
       "      <td>5.400072</td>\n",
       "      <td>1.469399</td>\n",
       "      <td>1.772167</td>\n",
       "      <td>...</td>\n",
       "      <td>-5.105000e-04</td>\n",
       "      <td>0.000164</td>\n",
       "      <td>0.013418</td>\n",
       "      <td>0.015516</td>\n",
       "      <td>0.004125</td>\n",
       "      <td>0.009467</td>\n",
       "      <td>0.002045</td>\n",
       "      <td>0.001064</td>\n",
       "      <td>0.000904</td>\n",
       "      <td>0.000741</td>\n",
       "    </tr>\n",
       "    <tr>\n",
       "      <td>2094</td>\n",
       "      <td>1</td>\n",
       "      <td>1.748112</td>\n",
       "      <td>3.140371</td>\n",
       "      <td>1.996047</td>\n",
       "      <td>4.262886</td>\n",
       "      <td>2.421456</td>\n",
       "      <td>2.155437</td>\n",
       "      <td>2.862223</td>\n",
       "      <td>1.299156</td>\n",
       "      <td>2.221726</td>\n",
       "      <td>...</td>\n",
       "      <td>-1.309700e-04</td>\n",
       "      <td>0.000174</td>\n",
       "      <td>0.000741</td>\n",
       "      <td>0.002170</td>\n",
       "      <td>0.000273</td>\n",
       "      <td>0.001319</td>\n",
       "      <td>0.000150</td>\n",
       "      <td>0.000490</td>\n",
       "      <td>0.000047</td>\n",
       "      <td>0.000228</td>\n",
       "    </tr>\n",
       "    <tr>\n",
       "      <td>2697</td>\n",
       "      <td>1</td>\n",
       "      <td>4.683971</td>\n",
       "      <td>4.825652</td>\n",
       "      <td>2.139479</td>\n",
       "      <td>4.765224</td>\n",
       "      <td>4.776906</td>\n",
       "      <td>2.414154</td>\n",
       "      <td>4.700127</td>\n",
       "      <td>4.690949</td>\n",
       "      <td>2.604260</td>\n",
       "      <td>...</td>\n",
       "      <td>-1.286870e-03</td>\n",
       "      <td>0.001603</td>\n",
       "      <td>0.030807</td>\n",
       "      <td>0.041832</td>\n",
       "      <td>0.022382</td>\n",
       "      <td>0.042246</td>\n",
       "      <td>0.002244</td>\n",
       "      <td>0.002297</td>\n",
       "      <td>0.001826</td>\n",
       "      <td>0.002193</td>\n",
       "    </tr>\n",
       "    <tr>\n",
       "      <td>3383</td>\n",
       "      <td>0</td>\n",
       "      <td>3.687012</td>\n",
       "      <td>4.529864</td>\n",
       "      <td>1.674506</td>\n",
       "      <td>3.806406</td>\n",
       "      <td>4.358840</td>\n",
       "      <td>1.707223</td>\n",
       "      <td>4.937836</td>\n",
       "      <td>1.902022</td>\n",
       "      <td>2.146001</td>\n",
       "      <td>...</td>\n",
       "      <td>-2.776000e-05</td>\n",
       "      <td>0.000006</td>\n",
       "      <td>0.000407</td>\n",
       "      <td>0.000459</td>\n",
       "      <td>0.001703</td>\n",
       "      <td>0.000788</td>\n",
       "      <td>0.000411</td>\n",
       "      <td>0.000066</td>\n",
       "      <td>0.000100</td>\n",
       "      <td>0.000047</td>\n",
       "    </tr>\n",
       "    <tr>\n",
       "      <td>1616</td>\n",
       "      <td>1</td>\n",
       "      <td>2.114925</td>\n",
       "      <td>4.118919</td>\n",
       "      <td>2.232350</td>\n",
       "      <td>3.305912</td>\n",
       "      <td>0.376801</td>\n",
       "      <td>2.192362</td>\n",
       "      <td>2.314206</td>\n",
       "      <td>0.884564</td>\n",
       "      <td>2.411648</td>\n",
       "      <td>...</td>\n",
       "      <td>-5.800000e-07</td>\n",
       "      <td>0.000001</td>\n",
       "      <td>0.000246</td>\n",
       "      <td>0.000179</td>\n",
       "      <td>0.000251</td>\n",
       "      <td>0.000170</td>\n",
       "      <td>0.000016</td>\n",
       "      <td>0.000005</td>\n",
       "      <td>0.000020</td>\n",
       "      <td>0.000002</td>\n",
       "    </tr>\n",
       "  </tbody>\n",
       "</table>\n",
       "<p>5 rows × 51 columns</p>\n",
       "</div>"
      ],
      "text/plain": [
       "      phase       lhx       lhy       lhz       rhx       rhy       rhz  \\\n",
       "938       1  4.892087  3.355297  1.454830  5.100224  3.207672  1.446455   \n",
       "2094      1  1.748112  3.140371  1.996047  4.262886  2.421456  2.155437   \n",
       "2697      1  4.683971  4.825652  2.139479  4.765224  4.776906  2.414154   \n",
       "3383      0  3.687012  4.529864  1.674506  3.806406  4.358840  1.707223   \n",
       "1616      1  2.114925  4.118919  2.232350  3.305912  0.376801  2.192362   \n",
       "\n",
       "            hx        hy        hz  ...            23        24        25  \\\n",
       "938   5.400072  1.469399  1.772167  ... -5.105000e-04  0.000164  0.013418   \n",
       "2094  2.862223  1.299156  2.221726  ... -1.309700e-04  0.000174  0.000741   \n",
       "2697  4.700127  4.690949  2.604260  ... -1.286870e-03  0.001603  0.030807   \n",
       "3383  4.937836  1.902022  2.146001  ... -2.776000e-05  0.000006  0.000407   \n",
       "1616  2.314206  0.884564  2.411648  ... -5.800000e-07  0.000001  0.000246   \n",
       "\n",
       "            26        27        28        29        30        31        32  \n",
       "938   0.015516  0.004125  0.009467  0.002045  0.001064  0.000904  0.000741  \n",
       "2094  0.002170  0.000273  0.001319  0.000150  0.000490  0.000047  0.000228  \n",
       "2697  0.041832  0.022382  0.042246  0.002244  0.002297  0.001826  0.002193  \n",
       "3383  0.000459  0.001703  0.000788  0.000411  0.000066  0.000100  0.000047  \n",
       "1616  0.000179  0.000251  0.000170  0.000016  0.000005  0.000020  0.000002  \n",
       "\n",
       "[5 rows x 51 columns]"
      ]
     },
     "execution_count": 24,
     "metadata": {},
     "output_type": "execute_result"
    }
   ],
   "source": [
    "df.head()"
   ]
  },
  {
   "cell_type": "code",
   "execution_count": 25,
   "metadata": {},
   "outputs": [
    {
     "data": {
      "image/png": "[encoded data removed]",
      "text/plain": [
       "<Figure size 576x396 with 2 Axes>"
      ]
     },
     "metadata": {},
     "output_type": "display_data"
    }
   ],
   "source": [
    "corr = df.corr()\n",
    "fig = plt.figure()\n",
    "ax = fig.add_subplot(111)\n",
    "cax = ax.matshow(corr,cmap='coolwarm', vmin=-0.9, vmax=0.9)\n",
    "fig.colorbar(cax)\n",
    "ticks = np.arange(0,len(df.columns),1)\n",
    "ax.set_xticks(ticks)\n",
    "plt.xticks(rotation=90)\n",
    "ax.set_yticks(ticks)\n",
    "ax.set_xticklabels(df.columns)\n",
    "ax.set_yticklabels(df.columns)\n",
    "plt.show()"
   ]
  },
  {
   "cell_type": "markdown",
   "metadata": {},
   "source": [
    "### Extracting the Feautre & Label Vector "
   ]
  },
  {
   "cell_type": "code",
   "execution_count": 26,
   "metadata": {},
   "outputs": [],
   "source": [
    "cols = list(df.columns)\n",
    "features = cols\n",
    "features = [e for e in features if e not in {'phase', 'X27', 'X28', 'X4', 'X5', 'X8','lhz','lwx','lwz','rhz','rwx','rwy','rwz','sx','sz'}]"
   ]
  },
  {
   "cell_type": "code",
   "execution_count": 27,
   "metadata": {},
   "outputs": [
    {
     "data": {
      "text/plain": [
       "41"
      ]
     },
     "execution_count": 27,
     "metadata": {},
     "output_type": "execute_result"
    }
   ],
   "source": [
    "len(features)"
   ]
  },
  {
   "cell_type": "code",
   "execution_count": 28,
   "metadata": {},
   "outputs": [
    {
     "data": {
      "text/html": [
       "<div>\n",
       "<style scoped>\n",
       "    .dataframe tbody tr th:only-of-type {\n",
       "        vertical-align: middle;\n",
       "    }\n",
       "\n",
       "    .dataframe tbody tr th {\n",
       "        vertical-align: top;\n",
       "    }\n",
       "\n",
       "    .dataframe thead th {\n",
       "        text-align: right;\n",
       "    }\n",
       "</style>\n",
       "<table border=\"1\" class=\"dataframe\">\n",
       "  <thead>\n",
       "    <tr style=\"text-align: right;\">\n",
       "      <th></th>\n",
       "      <th>lhx</th>\n",
       "      <th>lhy</th>\n",
       "      <th>rhx</th>\n",
       "      <th>rhy</th>\n",
       "      <th>hx</th>\n",
       "      <th>hy</th>\n",
       "      <th>hz</th>\n",
       "      <th>sy</th>\n",
       "      <th>lwy</th>\n",
       "      <th>1</th>\n",
       "      <th>...</th>\n",
       "      <th>23</th>\n",
       "      <th>24</th>\n",
       "      <th>25</th>\n",
       "      <th>26</th>\n",
       "      <th>27</th>\n",
       "      <th>28</th>\n",
       "      <th>29</th>\n",
       "      <th>30</th>\n",
       "      <th>31</th>\n",
       "      <th>32</th>\n",
       "    </tr>\n",
       "  </thead>\n",
       "  <tbody>\n",
       "    <tr>\n",
       "      <td>938</td>\n",
       "      <td>4.892087</td>\n",
       "      <td>3.355297</td>\n",
       "      <td>5.100224</td>\n",
       "      <td>3.207672</td>\n",
       "      <td>5.400072</td>\n",
       "      <td>1.469399</td>\n",
       "      <td>1.772167</td>\n",
       "      <td>4.179574</td>\n",
       "      <td>3.420685</td>\n",
       "      <td>0.012394</td>\n",
       "      <td>...</td>\n",
       "      <td>-5.105000e-04</td>\n",
       "      <td>0.000164</td>\n",
       "      <td>0.013418</td>\n",
       "      <td>0.015516</td>\n",
       "      <td>0.004125</td>\n",
       "      <td>0.009467</td>\n",
       "      <td>0.002045</td>\n",
       "      <td>0.001064</td>\n",
       "      <td>0.000904</td>\n",
       "      <td>0.000741</td>\n",
       "    </tr>\n",
       "    <tr>\n",
       "      <td>2094</td>\n",
       "      <td>1.748112</td>\n",
       "      <td>3.140371</td>\n",
       "      <td>4.262886</td>\n",
       "      <td>2.421456</td>\n",
       "      <td>2.862223</td>\n",
       "      <td>1.299156</td>\n",
       "      <td>2.221726</td>\n",
       "      <td>4.084054</td>\n",
       "      <td>3.238145</td>\n",
       "      <td>0.000114</td>\n",
       "      <td>...</td>\n",
       "      <td>-1.309700e-04</td>\n",
       "      <td>0.000174</td>\n",
       "      <td>0.000741</td>\n",
       "      <td>0.002170</td>\n",
       "      <td>0.000273</td>\n",
       "      <td>0.001319</td>\n",
       "      <td>0.000150</td>\n",
       "      <td>0.000490</td>\n",
       "      <td>0.000047</td>\n",
       "      <td>0.000228</td>\n",
       "    </tr>\n",
       "    <tr>\n",
       "      <td>2697</td>\n",
       "      <td>4.683971</td>\n",
       "      <td>4.825652</td>\n",
       "      <td>4.765224</td>\n",
       "      <td>4.776906</td>\n",
       "      <td>4.700127</td>\n",
       "      <td>4.690949</td>\n",
       "      <td>2.604260</td>\n",
       "      <td>4.968193</td>\n",
       "      <td>4.850798</td>\n",
       "      <td>-0.021462</td>\n",
       "      <td>...</td>\n",
       "      <td>-1.286870e-03</td>\n",
       "      <td>0.001603</td>\n",
       "      <td>0.030807</td>\n",
       "      <td>0.041832</td>\n",
       "      <td>0.022382</td>\n",
       "      <td>0.042246</td>\n",
       "      <td>0.002244</td>\n",
       "      <td>0.002297</td>\n",
       "      <td>0.001826</td>\n",
       "      <td>0.002193</td>\n",
       "    </tr>\n",
       "    <tr>\n",
       "      <td>3383</td>\n",
       "      <td>3.687012</td>\n",
       "      <td>4.529864</td>\n",
       "      <td>3.806406</td>\n",
       "      <td>4.358840</td>\n",
       "      <td>4.937836</td>\n",
       "      <td>1.902022</td>\n",
       "      <td>2.146001</td>\n",
       "      <td>4.360622</td>\n",
       "      <td>4.287387</td>\n",
       "      <td>-0.000374</td>\n",
       "      <td>...</td>\n",
       "      <td>-2.776000e-05</td>\n",
       "      <td>0.000006</td>\n",
       "      <td>0.000407</td>\n",
       "      <td>0.000459</td>\n",
       "      <td>0.001703</td>\n",
       "      <td>0.000788</td>\n",
       "      <td>0.000411</td>\n",
       "      <td>0.000066</td>\n",
       "      <td>0.000100</td>\n",
       "      <td>0.000047</td>\n",
       "    </tr>\n",
       "    <tr>\n",
       "      <td>1616</td>\n",
       "      <td>2.114925</td>\n",
       "      <td>4.118919</td>\n",
       "      <td>3.305912</td>\n",
       "      <td>0.376801</td>\n",
       "      <td>2.314206</td>\n",
       "      <td>0.884564</td>\n",
       "      <td>2.411648</td>\n",
       "      <td>3.362818</td>\n",
       "      <td>3.933146</td>\n",
       "      <td>-0.000233</td>\n",
       "      <td>...</td>\n",
       "      <td>-5.800000e-07</td>\n",
       "      <td>0.000001</td>\n",
       "      <td>0.000246</td>\n",
       "      <td>0.000179</td>\n",
       "      <td>0.000251</td>\n",
       "      <td>0.000170</td>\n",
       "      <td>0.000016</td>\n",
       "      <td>0.000005</td>\n",
       "      <td>0.000020</td>\n",
       "      <td>0.000002</td>\n",
       "    </tr>\n",
       "  </tbody>\n",
       "</table>\n",
       "<p>5 rows × 41 columns</p>\n",
       "</div>"
      ],
      "text/plain": [
       "           lhx       lhy       rhx       rhy        hx        hy        hz  \\\n",
       "938   4.892087  3.355297  5.100224  3.207672  5.400072  1.469399  1.772167   \n",
       "2094  1.748112  3.140371  4.262886  2.421456  2.862223  1.299156  2.221726   \n",
       "2697  4.683971  4.825652  4.765224  4.776906  4.700127  4.690949  2.604260   \n",
       "3383  3.687012  4.529864  3.806406  4.358840  4.937836  1.902022  2.146001   \n",
       "1616  2.114925  4.118919  3.305912  0.376801  2.314206  0.884564  2.411648   \n",
       "\n",
       "            sy       lwy         1  ...            23        24        25  \\\n",
       "938   4.179574  3.420685  0.012394  ... -5.105000e-04  0.000164  0.013418   \n",
       "2094  4.084054  3.238145  0.000114  ... -1.309700e-04  0.000174  0.000741   \n",
       "2697  4.968193  4.850798 -0.021462  ... -1.286870e-03  0.001603  0.030807   \n",
       "3383  4.360622  4.287387 -0.000374  ... -2.776000e-05  0.000006  0.000407   \n",
       "1616  3.362818  3.933146 -0.000233  ... -5.800000e-07  0.000001  0.000246   \n",
       "\n",
       "            26        27        28        29        30        31        32  \n",
       "938   0.015516  0.004125  0.009467  0.002045  0.001064  0.000904  0.000741  \n",
       "2094  0.002170  0.000273  0.001319  0.000150  0.000490  0.000047  0.000228  \n",
       "2697  0.041832  0.022382  0.042246  0.002244  0.002297  0.001826  0.002193  \n",
       "3383  0.000459  0.001703  0.000788  0.000411  0.000066  0.000100  0.000047  \n",
       "1616  0.000179  0.000251  0.000170  0.000016  0.000005  0.000020  0.000002  \n",
       "\n",
       "[5 rows x 41 columns]"
      ]
     },
     "execution_count": 28,
     "metadata": {},
     "output_type": "execute_result"
    }
   ],
   "source": [
    "X = df[features]\n",
    "y = df['phase']\n",
    "X.head()"
   ]
  },
  {
   "cell_type": "markdown",
   "metadata": {},
   "source": [
    "## Handling Imbalanced Dataset"
   ]
  },
  {
   "cell_type": "markdown",
   "metadata": {},
   "source": [
    "### Perform under-sampling by generating centroids based on clustering methods. Method that under samples the majority class by replacing a cluster of majority samples by the cluster centroid of a KMeans algorithm. This algorithm keeps N majority samples by fitting the KMeans algorithm with N cluster to the majority class and using the coordinates of the N cluster centroids as the new majority samples.\n",
    "\n",
    "### here we will resample only the majority class to be equal to the minority class which contains 998 samples.\n",
    "\n",
    "### Therefore we got 998 cluster which means 998 sample in the majority class.\n",
    "\n",
    "### Finally we got: 998 * 2 = 1996 total sample"
   ]
  },
  {
   "cell_type": "code",
   "execution_count": 29,
   "metadata": {},
   "outputs": [
    {
     "name": "stderr",
     "output_type": "stream",
     "text": [
      "Using TensorFlow backend.\n",
      "C:\\Users\\Yassine\\Anaconda3\\lib\\site-packages\\tensorflow\\python\\framework\\dtypes.py:523: FutureWarning: Passing (type, 1) or '1type' as a synonym of type is deprecated; in a future version of numpy, it will be understood as (type, (1,)) / '(1,)type'.\n",
      "  _np_qint8 = np.dtype([(\"qint8\", np.int8, 1)])\n",
      "C:\\Users\\Yassine\\Anaconda3\\lib\\site-packages\\tensorflow\\python\\framework\\dtypes.py:524: FutureWarning: Passing (type, 1) or '1type' as a synonym of type is deprecated; in a future version of numpy, it will be understood as (type, (1,)) / '(1,)type'.\n",
      "  _np_quint8 = np.dtype([(\"quint8\", np.uint8, 1)])\n",
      "C:\\Users\\Yassine\\Anaconda3\\lib\\site-packages\\tensorflow\\python\\framework\\dtypes.py:525: FutureWarning: Passing (type, 1) or '1type' as a synonym of type is deprecated; in a future version of numpy, it will be understood as (type, (1,)) / '(1,)type'.\n",
      "  _np_qint16 = np.dtype([(\"qint16\", np.int16, 1)])\n",
      "C:\\Users\\Yassine\\Anaconda3\\lib\\site-packages\\tensorflow\\python\\framework\\dtypes.py:526: FutureWarning: Passing (type, 1) or '1type' as a synonym of type is deprecated; in a future version of numpy, it will be understood as (type, (1,)) / '(1,)type'.\n",
      "  _np_quint16 = np.dtype([(\"quint16\", np.uint16, 1)])\n",
      "C:\\Users\\Yassine\\Anaconda3\\lib\\site-packages\\tensorflow\\python\\framework\\dtypes.py:527: FutureWarning: Passing (type, 1) or '1type' as a synonym of type is deprecated; in a future version of numpy, it will be understood as (type, (1,)) / '(1,)type'.\n",
      "  _np_qint32 = np.dtype([(\"qint32\", np.int32, 1)])\n",
      "C:\\Users\\Yassine\\Anaconda3\\lib\\site-packages\\tensorflow\\python\\framework\\dtypes.py:532: FutureWarning: Passing (type, 1) or '1type' as a synonym of type is deprecated; in a future version of numpy, it will be understood as (type, (1,)) / '(1,)type'.\n",
      "  np_resource = np.dtype([(\"resource\", np.ubyte, 1)])\n"
     ]
    },
    {
     "data": {
      "text/plain": [
       "(1996, 41)"
      ]
     },
     "execution_count": 29,
     "metadata": {},
     "output_type": "execute_result"
    }
   ],
   "source": [
    "from imblearn.under_sampling import ClusterCentroids\n",
    "cc = ClusterCentroids()\n",
    "X, y = cc.fit_sample(X, y)\n",
    "X.shape"
   ]
  },
  {
   "cell_type": "markdown",
   "metadata": {},
   "source": [
    "## Splitting into Test & Train (75:25)\n",
    "\n",
    "### Since we are using cross validation, we don't need to divide our data into training and test sets. We want all of the data in the training set so that we can apply cross validation on that. The simplest way to do this is to set the value for the test_size parameter to 0. This will return all the data in the training set as follows:"
   ]
  },
  {
   "cell_type": "code",
   "execution_count": 30,
   "metadata": {},
   "outputs": [],
   "source": [
    "X_train, X_test, y_train, y_test = model_selection.train_test_split(X, y, test_size=25, random_state=0)"
   ]
  },
  {
   "cell_type": "markdown",
   "metadata": {},
   "source": [
    "### Normalizing the Dataset for Easier Parameter Selection"
   ]
  },
  {
   "cell_type": "code",
   "execution_count": 31,
   "metadata": {},
   "outputs": [],
   "source": [
    "# Feature Scaling\n",
    "sc = StandardScaler()\n",
    "X_train = sc.fit_transform(X_train)\n",
    "X_test = sc.transform(X_test)"
   ]
  },
  {
   "cell_type": "code",
   "execution_count": 32,
   "metadata": {},
   "outputs": [],
   "source": [
    "X = StandardScaler().fit_transform(X)"
   ]
  },
  {
   "cell_type": "code",
   "execution_count": 33,
   "metadata": {},
   "outputs": [
    {
     "name": "stdout",
     "output_type": "stream",
     "text": [
      "(1971, 41) (1971,)\n",
      "(25, 41) (25,)\n"
     ]
    }
   ],
   "source": [
    "print(X_train.shape, y_train.shape)\n",
    "print(X_test.shape, y_test.shape)"
   ]
  },
  {
   "cell_type": "code",
   "execution_count": 34,
   "metadata": {},
   "outputs": [
    {
     "data": {
      "text/plain": [
       "PCA(copy=True, iterated_power='auto', n_components=41, random_state=None,\n",
       "    svd_solver='auto', tol=0.0, whiten=False)"
      ]
     },
     "execution_count": 34,
     "metadata": {},
     "output_type": "execute_result"
    }
   ],
   "source": [
    "# Apply PCA with the same number of dimensions as variables in the dataset\n",
    "from sklearn.decomposition import PCA\n",
    "pca = PCA(n_components=41)\n",
    "\n",
    "pca.fit(X_train)\n"
   ]
  },
  {
   "cell_type": "code",
   "execution_count": 35,
   "metadata": {},
   "outputs": [
    {
     "data": {
      "image/png": "[encoded data removed]",
      "text/plain": [
       "<Figure size 432x288 with 1 Axes>"
      ]
     },
     "metadata": {},
     "output_type": "display_data"
    }
   ],
   "source": [
    "%matplotlib inline\n",
    "import matplotlib.pyplot as plt\n",
    "plt.plot(list(pca.explained_variance_ratio_),'-o')\n",
    "plt.title('Explained variance ratio as function of PCA components')\n",
    "plt.ylabel('Explained variance ratio')\n",
    "plt.xlabel('Component')\n",
    "plt.show()"
   ]
  },
  {
   "cell_type": "markdown",
   "metadata": {},
   "source": [
    "### Create 'reduced_data' - a Feature Dataframe containing PCA components explaining Maximum Variance"
   ]
  },
  {
   "cell_type": "code",
   "execution_count": 36,
   "metadata": {},
   "outputs": [],
   "source": [
    "# We reduce the data to twenty dimensions using PCA\n",
    "pca = PCA(n_components=25)\n",
    "X_train = pca.fit_transform(X_train)\n",
    "X_test = pca.transform(X_test)\n",
    "#print(reduced_data[:10])  # print upto 10 elements"
   ]
  },
  {
   "cell_type": "code",
   "execution_count": 37,
   "metadata": {},
   "outputs": [
    {
     "data": {
      "text/plain": [
       "(1971, 25)"
      ]
     },
     "execution_count": 37,
     "metadata": {},
     "output_type": "execute_result"
    }
   ],
   "source": [
    "X_train.shape"
   ]
  },
  {
   "cell_type": "markdown",
   "metadata": {},
   "source": [
    "# 1. SVM"
   ]
  },
  {
   "cell_type": "code",
   "execution_count": 38,
   "metadata": {},
   "outputs": [
    {
     "name": "stderr",
     "output_type": "stream",
     "text": [
      "C:\\Users\\Yassine\\Anaconda3\\lib\\site-packages\\sklearn\\svm\\base.py:193: FutureWarning: The default value of gamma will change from 'auto' to 'scale' in version 0.22 to account better for unscaled features. Set gamma explicitly to 'auto' or 'scale' to avoid this warning.\n",
      "  \"avoid this warning.\", FutureWarning)\n",
      "C:\\Users\\Yassine\\Anaconda3\\lib\\site-packages\\sklearn\\svm\\base.py:193: FutureWarning: The default value of gamma will change from 'auto' to 'scale' in version 0.22 to account better for unscaled features. Set gamma explicitly to 'auto' or 'scale' to avoid this warning.\n",
      "  \"avoid this warning.\", FutureWarning)\n",
      "C:\\Users\\Yassine\\Anaconda3\\lib\\site-packages\\sklearn\\svm\\base.py:193: FutureWarning: The default value of gamma will change from 'auto' to 'scale' in version 0.22 to account better for unscaled features. Set gamma explicitly to 'auto' or 'scale' to avoid this warning.\n",
      "  \"avoid this warning.\", FutureWarning)\n",
      "C:\\Users\\Yassine\\Anaconda3\\lib\\site-packages\\sklearn\\svm\\base.py:193: FutureWarning: The default value of gamma will change from 'auto' to 'scale' in version 0.22 to account better for unscaled features. Set gamma explicitly to 'auto' or 'scale' to avoid this warning.\n",
      "  \"avoid this warning.\", FutureWarning)\n",
      "C:\\Users\\Yassine\\Anaconda3\\lib\\site-packages\\sklearn\\svm\\base.py:193: FutureWarning: The default value of gamma will change from 'auto' to 'scale' in version 0.22 to account better for unscaled features. Set gamma explicitly to 'auto' or 'scale' to avoid this warning.\n",
      "  \"avoid this warning.\", FutureWarning)\n"
     ]
    },
    {
     "name": "stdout",
     "output_type": "stream",
     "text": [
      "[0.89620253 0.91898734 0.90126582 0.91857506 0.8956743 ]\n",
      "0.9061410120140433\n"
     ]
    },
    {
     "name": "stderr",
     "output_type": "stream",
     "text": [
      "C:\\Users\\Yassine\\Anaconda3\\lib\\site-packages\\sklearn\\svm\\base.py:193: FutureWarning: The default value of gamma will change from 'auto' to 'scale' in version 0.22 to account better for unscaled features. Set gamma explicitly to 'auto' or 'scale' to avoid this warning.\n",
      "  \"avoid this warning.\", FutureWarning)\n"
     ]
    }
   ],
   "source": [
    "# Fitting SVM to the Training set\n",
    "from sklearn.svm import SVC\n",
    "SVM = SVC(kernel = 'rbf', random_state = 0)\n",
    "SVM.fit(X_train, y_train)\n",
    "\n",
    "# Train accuracy\n",
    "scores = model_selection.cross_val_score(SVM, X_train, y_train, cv=5)\n",
    "print (scores)\n",
    "print (scores.mean())"
   ]
  },
  {
   "cell_type": "code",
   "execution_count": 39,
   "metadata": {},
   "outputs": [
    {
     "name": "stdout",
     "output_type": "stream",
     "text": [
      "cross result========\n",
      "Acurracy:  0.96\n",
      "\n",
      "\n",
      "time elapsed:  0.0020017623901367188\n",
      "\n",
      "\n"
     ]
    }
   ],
   "source": [
    "from time import time\n",
    "from sklearn.metrics import accuracy_score\n",
    "\n",
    "# Predicting the Test set results\n",
    "y_pred = SVM.predict(X_test)\n",
    "\n",
    "tt0=time()\n",
    "\n",
    "print (\"cross result========\")\n",
    "#scores = model_selection.cross_val_score(SVM, X_test, y_test, cv=3)\n",
    "#print(scores)\n",
    "#print (scores.mean())\n",
    "#print (scores.std())\n",
    "\n",
    "print (\"Acurracy: \", SVM.score(X_test,y_test) )\n",
    "\n",
    "\n",
    "tt1=time()\n",
    "print (\"\\n\")\n",
    "print (\"time elapsed: \", tt1-tt0)\n",
    "print (\"\\n\")"
   ]
  },
  {
   "cell_type": "code",
   "execution_count": 40,
   "metadata": {},
   "outputs": [
    {
     "name": "stdout",
     "output_type": "stream",
     "text": [
      "{'C': 50, 'gamma': 0.06, 'kernel': 'rbf'}\n"
     ]
    }
   ],
   "source": [
    "# Applying Grid Search to find the best model and the best parameters\n",
    "from sklearn.model_selection import GridSearchCV\n",
    "parameters = [{'C': [1, 10, 50, 75, 100], 'kernel': ['linear']},\n",
    "              {'C': [1, 10, 50, 75, 100], 'kernel': ['rbf'], 'gamma': [0.05, 0.06, 0.07, 0.08, 0.09,0.1, 0.15, 0.2]}]\n",
    "grid_search = GridSearchCV(estimator = SVM,\n",
    "                           param_grid = parameters,\n",
    "                           scoring = 'accuracy',\n",
    "                           cv = 5,\n",
    "                           n_jobs = -1)\n",
    "grid_search = grid_search.fit(X_train, y_train)\n",
    "best_accuracy = grid_search.best_score_\n",
    "best_parameters = grid_search.best_params_\n",
    "print(best_parameters)"
   ]
  },
  {
   "cell_type": "code",
   "execution_count": 41,
   "metadata": {},
   "outputs": [
    {
     "name": "stdout",
     "output_type": "stream",
     "text": [
      "[0.90379747 0.93670886 0.91392405 0.956743   0.91348601]\n",
      "0.9249318774760846\n"
     ]
    }
   ],
   "source": [
    "# Fitting SVM to the best parameters\n",
    "\n",
    "from sklearn.svm import SVC\n",
    "SVM = SVC(kernel = 'rbf', C=50, gamma=0.06)\n",
    "SVM.fit(X_train, y_train)\n",
    "scores = model_selection.cross_val_score(SVM, X_train, y_train, cv=5)\n",
    "print (scores)\n",
    "print (scores.mean())"
   ]
  },
  {
   "cell_type": "code",
   "execution_count": 42,
   "metadata": {},
   "outputs": [
    {
     "name": "stdout",
     "output_type": "stream",
     "text": [
      "Acurracy:  1.0\n"
     ]
    }
   ],
   "source": [
    "# Testing our best SVM\n",
    "\n",
    "print (\"Acurracy: \", SVM.score(X_test,y_test) )\n",
    "\n",
    "#scores = model_selection.cross_val_score(SVM, X_test, y_test, cv=3)\n",
    "#print(scores)\n",
    "#print (scores.mean())\n",
    "#print (scores.std())"
   ]
  },
  {
   "cell_type": "markdown",
   "metadata": {},
   "source": [
    "# 2. Random Forest"
   ]
  },
  {
   "cell_type": "code",
   "execution_count": 43,
   "metadata": {},
   "outputs": [
    {
     "name": "stdout",
     "output_type": "stream",
     "text": [
      "[0.90886076 0.90632911 0.90126582 0.93384224 0.92111959]\n",
      "0.9142835056527201\n"
     ]
    }
   ],
   "source": [
    "from sklearn.ensemble import RandomForestClassifier\n",
    "rf = RandomForestClassifier(n_estimators = 10, criterion = 'entropy')\n",
    "rf.fit(X_train, y_train)\n",
    "\n",
    "# Train accuracy\n",
    "scores = model_selection.cross_val_score(rf, X_train, y_train, cv=5)\n",
    "print (scores)\n",
    "print (scores.mean())"
   ]
  },
  {
   "cell_type": "code",
   "execution_count": 44,
   "metadata": {},
   "outputs": [
    {
     "name": "stdout",
     "output_type": "stream",
     "text": [
      "Acurracy:  0.96\n",
      "\n",
      "\n",
      "time elapsed:  0.003984689712524414\n",
      "\n",
      "\n"
     ]
    }
   ],
   "source": [
    "from time import time\n",
    "from sklearn.metrics import accuracy_score\n",
    "\n",
    "# Predicting the Test set results\n",
    "#y_pred = rf.predict(X_test)\n",
    "\n",
    "tt0=time()\n",
    "\n",
    "print (\"Acurracy: \", rf.score(X_test,y_test) )\n",
    "\n",
    "#print (\"cross result========\")\n",
    "#scores = model_selection.cross_val_score(rf, X_test, y_test, cv=3)\n",
    "#print(scores)\n",
    "#print (scores.mean())\n",
    "#print (scores.std())\n",
    "\n",
    "tt1=time()\n",
    "print (\"\\n\")\n",
    "print (\"time elapsed: \", tt1-tt0)\n",
    "print (\"\\n\")"
   ]
  },
  {
   "cell_type": "code",
   "execution_count": 45,
   "metadata": {},
   "outputs": [
    {
     "name": "stdout",
     "output_type": "stream",
     "text": [
      "{'bootstrap': False, 'criterion': 'gini', 'n_estimators': 1000}\n"
     ]
    }
   ],
   "source": [
    "# Grid Search for best parameters\n",
    "parameters = {\n",
    "    'n_estimators': [10, 50, 100, 300, 500],\n",
    "    'criterion': ['gini', 'entropy'],\n",
    "    'bootstrap': [True, False]\n",
    "}\n",
    "\n",
    "grid_search = GridSearchCV(estimator = rf,\n",
    "                           param_grid = parameters,\n",
    "                           scoring = 'accuracy',\n",
    "                           cv = 5,\n",
    "                           n_jobs = -1)\n",
    "grid_search = grid_search.fit(X_train, y_train)\n",
    "best_accuracy = grid_search.best_score_\n",
    "best_parameters = grid_search.best_params_\n",
    "print(best_parameters)"
   ]
  },
  {
   "cell_type": "code",
   "execution_count": 46,
   "metadata": {},
   "outputs": [
    {
     "name": "stdout",
     "output_type": "stream",
     "text": [
      "[0.90126582 0.92405063 0.92151899 0.94402036 0.9389313 ]\n",
      "0.9259574193963991\n"
     ]
    }
   ],
   "source": [
    "# Fitting R.F. to the best parameters\n",
    "# 100 entro false\n",
    "rf = RandomForestClassifier(n_estimators = 1000, criterion = 'entropy', bootstrap = False)\n",
    "rf.fit(X_train, y_train)\n",
    "\n",
    "scores = model_selection.cross_val_score(rf, X_train, y_train, cv=5)\n",
    "print (scores)\n",
    "print (scores.mean())"
   ]
  },
  {
   "cell_type": "code",
   "execution_count": 47,
   "metadata": {},
   "outputs": [
    {
     "name": "stdout",
     "output_type": "stream",
     "text": [
      "Acurracy:  1.0\n"
     ]
    }
   ],
   "source": [
    "# Testing our best R.F.\n",
    "\n",
    "print (\"Acurracy: \", rf.score(X_test,y_test))\n",
    "\n",
    "#scores = model_selection.cross_val_score(rf, X_test, y_test, cv=3)\n",
    "#print(scores)\n",
    "#print (scores.mean())\n",
    "#print (scores.std())"
   ]
  },
  {
   "cell_type": "markdown",
   "metadata": {},
   "source": [
    "# 3. ANN"
   ]
  },
  {
   "cell_type": "code",
   "execution_count": 49,
   "metadata": {
    "scrolled": false
   },
   "outputs": [
    {
     "name": "stdout",
     "output_type": "stream",
     "text": [
      "Epoch 1/64\n",
      "1971/1971 [==============================] - 32s 16ms/step - loss: 0.4992 - acc: 0.8346\n",
      "Epoch 2/64\n",
      "1971/1971 [==============================] - ETA: 0s - loss: 0.2715 - acc: 0.890 - 1s 357us/step - loss: 0.2702 - acc: 0.8909\n",
      "Epoch 3/64\n",
      "1971/1971 [==============================] - 1s 356us/step - loss: 0.2508 - acc: 0.9031\n",
      "Epoch 4/64\n",
      "1971/1971 [==============================] - 1s 388us/step - loss: 0.2348 - acc: 0.9122\n",
      "Epoch 5/64\n",
      "1971/1971 [==============================] - 1s 365us/step - loss: 0.2241 - acc: 0.9143\n",
      "Epoch 6/64\n",
      "1971/1971 [==============================] - 1s 445us/step - loss: 0.2154 - acc: 0.9173\n",
      "Epoch 7/64\n",
      "1971/1971 [==============================] - 1s 418us/step - loss: 0.2066 - acc: 0.9239\n",
      "Epoch 8/64\n",
      "1971/1971 [==============================] - 1s 339us/step - loss: 0.1999 - acc: 0.9224\n",
      "Epoch 9/64\n",
      "1971/1971 [==============================] - 1s 339us/step - loss: 0.1894 - acc: 0.9315\n",
      "Epoch 10/64\n",
      "1971/1971 [==============================] - 1s 347us/step - loss: 0.1873 - acc: 0.9280\n",
      "Epoch 11/64\n",
      "1971/1971 [==============================] - 1s 345us/step - loss: 0.1799 - acc: 0.9325\n",
      "Epoch 12/64\n",
      "1971/1971 [==============================] - 1s 347us/step - loss: 0.1752 - acc: 0.9310\n",
      "Epoch 13/64\n",
      "1971/1971 [==============================] - 1s 346us/step - loss: 0.1666 - acc: 0.9386\n",
      "Epoch 14/64\n",
      "1971/1971 [==============================] - 1s 371us/step - loss: 0.1643 - acc: 0.9366\n",
      "Epoch 15/64\n",
      "1971/1971 [==============================] - 1s 434us/step - loss: 0.1602 - acc: 0.9356\n",
      "Epoch 16/64\n",
      "1971/1971 [==============================] - 1s 345us/step - loss: 0.1527 - acc: 0.9432\n",
      "Epoch 17/64\n",
      "1971/1971 [==============================] - 1s 361us/step - loss: 0.1487 - acc: 0.9422\n",
      "Epoch 18/64\n",
      "1971/1971 [==============================] - 1s 375us/step - loss: 0.1486 - acc: 0.9427\n",
      "Epoch 19/64\n",
      "1971/1971 [==============================] - 1s 358us/step - loss: 0.1385 - acc: 0.9472\n",
      "Epoch 20/64\n",
      "1971/1971 [==============================] - 1s 367us/step - loss: 0.1379 - acc: 0.9452\n",
      "Epoch 21/64\n",
      "1971/1971 [==============================] - 1s 442us/step - loss: 0.1355 - acc: 0.9488\n",
      "Epoch 22/64\n",
      "1971/1971 [==============================] - 1s 514us/step - loss: 0.1275 - acc: 0.9508\n",
      "Epoch 23/64\n",
      "1971/1971 [==============================] - 1s 408us/step - loss: 0.1238 - acc: 0.9538\n",
      "Epoch 24/64\n",
      "1971/1971 [==============================] - 1s 439us/step - loss: 0.1232 - acc: 0.9518\n",
      "Epoch 25/64\n",
      "1971/1971 [==============================] - 1s 463us/step - loss: 0.1203 - acc: 0.9548\n",
      "Epoch 26/64\n",
      "1971/1971 [==============================] - 1s 344us/step - loss: 0.1124 - acc: 0.9554\n",
      "Epoch 27/64\n",
      "1971/1971 [==============================] - 1s 347us/step - loss: 0.1231 - acc: 0.9543\n",
      "Epoch 28/64\n",
      "1971/1971 [==============================] - 1s 352us/step - loss: 0.1071 - acc: 0.9640\n",
      "Epoch 29/64\n",
      "1971/1971 [==============================] - 1s 417us/step - loss: 0.1026 - acc: 0.9614\n",
      "Epoch 30/64\n",
      "1971/1971 [==============================] - 1s 488us/step - loss: 0.1014 - acc: 0.9574\n",
      "Epoch 31/64\n",
      "1971/1971 [==============================] - 1s 404us/step - loss: 0.0970 - acc: 0.9655\n",
      "Epoch 32/64\n",
      "1971/1971 [==============================] - 1s 365us/step - loss: 0.0985 - acc: 0.9635\n",
      "Epoch 33/64\n",
      "1971/1971 [==============================] - 1s 361us/step - loss: 0.0936 - acc: 0.9670\n",
      "Epoch 34/64\n",
      "1971/1971 [==============================] - 1s 367us/step - loss: 0.0911 - acc: 0.9675\n",
      "Epoch 35/64\n",
      "1971/1971 [==============================] - 1s 416us/step - loss: 0.0933 - acc: 0.9650\n",
      "Epoch 36/64\n",
      "1971/1971 [==============================] - 1s 429us/step - loss: 0.0860 - acc: 0.9701\n",
      "Epoch 37/64\n",
      "1971/1971 [==============================] - 1s 593us/step - loss: 0.0898 - acc: 0.9665\n",
      "Epoch 38/64\n",
      "1971/1971 [==============================] - 1s 344us/step - loss: 0.0798 - acc: 0.9726\n",
      "Epoch 39/64\n",
      "1971/1971 [==============================] - 1s 384us/step - loss: 0.0815 - acc: 0.9696\n",
      "Epoch 40/64\n",
      "1971/1971 [==============================] - 1s 354us/step - loss: 0.0832 - acc: 0.9665\n",
      "Epoch 41/64\n",
      "1971/1971 [==============================] - 1s 356us/step - loss: 0.0812 - acc: 0.9736\n",
      "Epoch 42/64\n",
      "1971/1971 [==============================] - 1s 362us/step - loss: 0.0750 - acc: 0.9746\n",
      "Epoch 43/64\n",
      "1971/1971 [==============================] - 1s 363us/step - loss: 0.0763 - acc: 0.9741\n",
      "Epoch 44/64\n",
      "1971/1971 [==============================] - 1s 403us/step - loss: 0.0769 - acc: 0.9716\n",
      "Epoch 45/64\n",
      "1971/1971 [==============================] - 1s 544us/step - loss: 0.0718 - acc: 0.9701\n",
      "Epoch 46/64\n",
      "1971/1971 [==============================] - 1s 444us/step - loss: 0.0690 - acc: 0.9762\n",
      "Epoch 47/64\n",
      "1971/1971 [==============================] - 1s 374us/step - loss: 0.0696 - acc: 0.9756\n",
      "Epoch 48/64\n",
      "1971/1971 [==============================] - 1s 354us/step - loss: 0.0690 - acc: 0.9756\n",
      "Epoch 49/64\n",
      "1971/1971 [==============================] - 1s 356us/step - loss: 0.0682 - acc: 0.9746\n",
      "Epoch 50/64\n",
      "1971/1971 [==============================] - 1s 360us/step - loss: 0.0657 - acc: 0.9782\n",
      "Epoch 51/64\n",
      "1971/1971 [==============================] - 1s 363us/step - loss: 0.0648 - acc: 0.9772\n",
      "Epoch 52/64\n",
      "1971/1971 [==============================] - 1s 473us/step - loss: 0.0608 - acc: 0.9782\n",
      "Epoch 53/64\n",
      "1971/1971 [==============================] - 1s 345us/step - loss: 0.0609 - acc: 0.9787\n",
      "Epoch 54/64\n",
      "1971/1971 [==============================] - 1s 337us/step - loss: 0.0588 - acc: 0.9777\n",
      "Epoch 55/64\n",
      "1971/1971 [==============================] - 1s 357us/step - loss: 0.0587 - acc: 0.9782\n",
      "Epoch 56/64\n",
      "1971/1971 [==============================] - 1s 344us/step - loss: 0.0568 - acc: 0.9812\n",
      "Epoch 57/64\n",
      "1971/1971 [==============================] - 1s 360us/step - loss: 0.0601 - acc: 0.9792\n",
      "Epoch 58/64\n",
      "1971/1971 [==============================] - 1s 348us/step - loss: 0.0580 - acc: 0.9802\n",
      "Epoch 59/64\n",
      "1971/1971 [==============================] - 1s 351us/step - loss: 0.0596 - acc: 0.9787\n",
      "Epoch 60/64\n",
      "1971/1971 [==============================] - 1s 467us/step - loss: 0.0551 - acc: 0.9807\n",
      "Epoch 61/64\n",
      "1971/1971 [==============================] - 1s 344us/step - loss: 0.0573 - acc: 0.9772\n",
      "Epoch 62/64\n",
      "1971/1971 [==============================] - 1s 349us/step - loss: 0.0521 - acc: 0.9807\n",
      "Epoch 63/64\n",
      "1971/1971 [==============================] - 1s 349us/step - loss: 0.0534 - acc: 0.9797\n",
      "Epoch 64/64\n",
      "1971/1971 [==============================] - 1s 343us/step - loss: 0.0571 - acc: 0.9767\n"
     ]
    }
   ],
   "source": [
    "# Importing the Keras libraries and packages\n",
    "import keras\n",
    "from keras.models import Sequential\n",
    "from keras.layers import Dense\n",
    "\n",
    "# Initialising the ANN\n",
    "classifier = Sequential()\n",
    "\n",
    "# Adding the input layer and the first hidden layer\n",
    "classifier.add(Dense(units = 25, kernel_initializer = 'uniform', activation = 'relu', input_dim = 25))\n",
    "\n",
    "# Adding the second hidden layer\n",
    "classifier.add(Dense(units = 25, kernel_initializer = 'uniform', activation = 'relu'))\n",
    "\n",
    "# Adding the output layer\n",
    "classifier.add(Dense(units = 1, kernel_initializer = 'uniform', activation = 'sigmoid'))\n",
    "\n",
    "# Compiling the ANN\n",
    "classifier.compile(optimizer = 'adam', loss = 'binary_crossentropy', metrics = ['accuracy'])\n",
    "\n",
    "# Fitting the ANN to the Training set\n",
    "classifier.fit(X_train, y_train, batch_size = 10, epochs = 64)\n",
    "\n",
    "# Part 3 - Making the predictions and evaluating the model\n",
    "\n",
    "# Predicting the Test set results\n",
    "y_pred = classifier.predict(X_test)\n",
    "for i in range(len(y_pred)):\n",
    "    if y_pred[i]>0.5:\n",
    "        y_pred[i]=1\n",
    "    else:\n",
    "        y_pred[i]=0"
   ]
  },
  {
   "cell_type": "code",
   "execution_count": 50,
   "metadata": {},
   "outputs": [
    {
     "name": "stdout",
     "output_type": "stream",
     "text": [
      "25/25 [==============================] - 0s 2ms/step\n"
     ]
    },
    {
     "data": {
      "text/plain": [
       "0.9599999904632568"
      ]
     },
     "execution_count": 50,
     "metadata": {},
     "output_type": "execute_result"
    }
   ],
   "source": [
    "test_acc = classifier.evaluate(X_test, y_test, batch_size=10, verbose=1)[1]\n",
    "test_acc"
   ]
  },
  {
   "cell_type": "code",
   "execution_count": 51,
   "metadata": {},
   "outputs": [
    {
     "data": {
      "text/plain": [
       "array([[15,  0],\n",
       "       [ 1,  9]], dtype=int64)"
      ]
     },
     "execution_count": 51,
     "metadata": {},
     "output_type": "execute_result"
    }
   ],
   "source": [
    "from sklearn.metrics import confusion_matrix\n",
    "cm = confusion_matrix(y_test, y_pred)\n",
    "cm"
   ]
  },
  {
   "cell_type": "code",
   "execution_count": null,
   "metadata": {},
   "outputs": [],
   "source": []
  }
 ],
 "metadata": {
  "kernelspec": {
   "display_name": "Python 3",
   "language": "python",
   "name": "python3"
  },
  "language_info": {
   "codemirror_mode": {
    "name": "ipython",
    "version": 3
   },
   "file_extension": ".py",
   "mimetype": "text/x-python",
   "name": "python",
   "nbconvert_exporter": "python",
   "pygments_lexer": "ipython3",
   "version": "3.6.6"
  }
 },
 "nbformat": 4,
 "nbformat_minor": 2
}
